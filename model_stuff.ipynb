{
 "cells": [
  {
   "cell_type": "code",
   "execution_count": 2,
   "metadata": {},
   "outputs": [],
   "source": [
    "import pandas as pd\n",
    "import sklearn"
   ]
  },
  {
   "cell_type": "code",
   "execution_count": 4,
   "metadata": {},
   "outputs": [
    {
     "data": {
      "text/html": [
       "<div>\n",
       "<style scoped>\n",
       "    .dataframe tbody tr th:only-of-type {\n",
       "        vertical-align: middle;\n",
       "    }\n",
       "\n",
       "    .dataframe tbody tr th {\n",
       "        vertical-align: top;\n",
       "    }\n",
       "\n",
       "    .dataframe thead th {\n",
       "        text-align: right;\n",
       "    }\n",
       "</style>\n",
       "<table border=\"1\" class=\"dataframe\">\n",
       "  <thead>\n",
       "    <tr style=\"text-align: right;\">\n",
       "      <th></th>\n",
       "      <th>Unnamed: 0</th>\n",
       "      <th>Time</th>\n",
       "      <th>Depth</th>\n",
       "      <th>Oxygen</th>\n",
       "    </tr>\n",
       "  </thead>\n",
       "  <tbody>\n",
       "    <tr>\n",
       "      <th>0</th>\n",
       "      <td>0</td>\n",
       "      <td>0</td>\n",
       "      <td>-126.548177</td>\n",
       "      <td>0.668028</td>\n",
       "    </tr>\n",
       "    <tr>\n",
       "      <th>1</th>\n",
       "      <td>1</td>\n",
       "      <td>0</td>\n",
       "      <td>-126.548177</td>\n",
       "      <td>0.674343</td>\n",
       "    </tr>\n",
       "    <tr>\n",
       "      <th>2</th>\n",
       "      <td>2</td>\n",
       "      <td>0</td>\n",
       "      <td>-126.548177</td>\n",
       "      <td>0.680657</td>\n",
       "    </tr>\n",
       "    <tr>\n",
       "      <th>3</th>\n",
       "      <td>3</td>\n",
       "      <td>0</td>\n",
       "      <td>-126.548177</td>\n",
       "      <td>0.686971</td>\n",
       "    </tr>\n",
       "    <tr>\n",
       "      <th>4</th>\n",
       "      <td>4</td>\n",
       "      <td>0</td>\n",
       "      <td>-126.548177</td>\n",
       "      <td>0.693286</td>\n",
       "    </tr>\n",
       "    <tr>\n",
       "      <th>...</th>\n",
       "      <td>...</td>\n",
       "      <td>...</td>\n",
       "      <td>...</td>\n",
       "      <td>...</td>\n",
       "    </tr>\n",
       "    <tr>\n",
       "      <th>441963</th>\n",
       "      <td>441963</td>\n",
       "      <td>367</td>\n",
       "      <td>-420.729644</td>\n",
       "      <td>2.515058</td>\n",
       "    </tr>\n",
       "    <tr>\n",
       "      <th>441964</th>\n",
       "      <td>441964</td>\n",
       "      <td>367</td>\n",
       "      <td>-502.995010</td>\n",
       "      <td>2.516536</td>\n",
       "    </tr>\n",
       "    <tr>\n",
       "      <th>441965</th>\n",
       "      <td>441965</td>\n",
       "      <td>367</td>\n",
       "      <td>-511.973477</td>\n",
       "      <td>2.517617</td>\n",
       "    </tr>\n",
       "    <tr>\n",
       "      <th>441966</th>\n",
       "      <td>441966</td>\n",
       "      <td>367</td>\n",
       "      <td>-527.909339</td>\n",
       "      <td>2.516555</td>\n",
       "    </tr>\n",
       "    <tr>\n",
       "      <th>441967</th>\n",
       "      <td>441967</td>\n",
       "      <td>367</td>\n",
       "      <td>-553.748199</td>\n",
       "      <td>2.515111</td>\n",
       "    </tr>\n",
       "  </tbody>\n",
       "</table>\n",
       "<p>441968 rows × 4 columns</p>\n",
       "</div>"
      ],
      "text/plain": [
       "        Unnamed: 0  Time       Depth    Oxygen\n",
       "0                0     0 -126.548177  0.668028\n",
       "1                1     0 -126.548177  0.674343\n",
       "2                2     0 -126.548177  0.680657\n",
       "3                3     0 -126.548177  0.686971\n",
       "4                4     0 -126.548177  0.693286\n",
       "...            ...   ...         ...       ...\n",
       "441963      441963   367 -420.729644  2.515058\n",
       "441964      441964   367 -502.995010  2.516536\n",
       "441965      441965   367 -511.973477  2.517617\n",
       "441966      441966   367 -527.909339  2.516555\n",
       "441967      441967   367 -553.748199  2.515111\n",
       "\n",
       "[441968 rows x 4 columns]"
      ]
     },
     "execution_count": 4,
     "metadata": {},
     "output_type": "execute_result"
    }
   ],
   "source": [
    "# load data\n",
    "data = pd.read_csv('ml_model_data.csv')\n",
    "data"
   ]
  },
  {
   "cell_type": "code",
   "execution_count": 11,
   "metadata": {},
   "outputs": [
    {
     "data": {
      "text/html": [
       "<div>\n",
       "<style scoped>\n",
       "    .dataframe tbody tr th:only-of-type {\n",
       "        vertical-align: middle;\n",
       "    }\n",
       "\n",
       "    .dataframe tbody tr th {\n",
       "        vertical-align: top;\n",
       "    }\n",
       "\n",
       "    .dataframe thead th {\n",
       "        text-align: right;\n",
       "    }\n",
       "</style>\n",
       "<table border=\"1\" class=\"dataframe\">\n",
       "  <thead>\n",
       "    <tr style=\"text-align: right;\">\n",
       "      <th></th>\n",
       "      <th>Time</th>\n",
       "      <th>Depth</th>\n",
       "      <th>Oxygen</th>\n",
       "    </tr>\n",
       "  </thead>\n",
       "  <tbody>\n",
       "    <tr>\n",
       "      <th>0</th>\n",
       "      <td>0</td>\n",
       "      <td>-126.548177</td>\n",
       "      <td>0.668028</td>\n",
       "    </tr>\n",
       "    <tr>\n",
       "      <th>1</th>\n",
       "      <td>0</td>\n",
       "      <td>-126.548177</td>\n",
       "      <td>0.674343</td>\n",
       "    </tr>\n",
       "    <tr>\n",
       "      <th>2</th>\n",
       "      <td>0</td>\n",
       "      <td>-126.548177</td>\n",
       "      <td>0.680657</td>\n",
       "    </tr>\n",
       "    <tr>\n",
       "      <th>3</th>\n",
       "      <td>0</td>\n",
       "      <td>-126.548177</td>\n",
       "      <td>0.686971</td>\n",
       "    </tr>\n",
       "    <tr>\n",
       "      <th>4</th>\n",
       "      <td>0</td>\n",
       "      <td>-126.548177</td>\n",
       "      <td>0.693286</td>\n",
       "    </tr>\n",
       "    <tr>\n",
       "      <th>...</th>\n",
       "      <td>...</td>\n",
       "      <td>...</td>\n",
       "      <td>...</td>\n",
       "    </tr>\n",
       "    <tr>\n",
       "      <th>441963</th>\n",
       "      <td>367</td>\n",
       "      <td>-420.729644</td>\n",
       "      <td>2.515058</td>\n",
       "    </tr>\n",
       "    <tr>\n",
       "      <th>441964</th>\n",
       "      <td>367</td>\n",
       "      <td>-502.995010</td>\n",
       "      <td>2.516536</td>\n",
       "    </tr>\n",
       "    <tr>\n",
       "      <th>441965</th>\n",
       "      <td>367</td>\n",
       "      <td>-511.973477</td>\n",
       "      <td>2.517617</td>\n",
       "    </tr>\n",
       "    <tr>\n",
       "      <th>441966</th>\n",
       "      <td>367</td>\n",
       "      <td>-527.909339</td>\n",
       "      <td>2.516555</td>\n",
       "    </tr>\n",
       "    <tr>\n",
       "      <th>441967</th>\n",
       "      <td>367</td>\n",
       "      <td>-553.748199</td>\n",
       "      <td>2.515111</td>\n",
       "    </tr>\n",
       "  </tbody>\n",
       "</table>\n",
       "<p>441968 rows × 3 columns</p>\n",
       "</div>"
      ],
      "text/plain": [
       "        Time       Depth    Oxygen\n",
       "0          0 -126.548177  0.668028\n",
       "1          0 -126.548177  0.674343\n",
       "2          0 -126.548177  0.680657\n",
       "3          0 -126.548177  0.686971\n",
       "4          0 -126.548177  0.693286\n",
       "...      ...         ...       ...\n",
       "441963   367 -420.729644  2.515058\n",
       "441964   367 -502.995010  2.516536\n",
       "441965   367 -511.973477  2.517617\n",
       "441966   367 -527.909339  2.516555\n",
       "441967   367 -553.748199  2.515111\n",
       "\n",
       "[441968 rows x 3 columns]"
      ]
     },
     "execution_count": 11,
     "metadata": {},
     "output_type": "execute_result"
    }
   ],
   "source": [
    "# only keep \"Time\", \"Depth\" and \"Oxygen\" columns\n",
    "data = data[[\"Time\", \"Depth\", \"Oxygen\"]]\n",
    "data"
   ]
  },
  {
   "cell_type": "code",
   "execution_count": 12,
   "metadata": {},
   "outputs": [],
   "source": [
    "# split into features and target, time and depth are features, oxygen is target\n",
    "features = data[[\"Time\", \"Depth\"]]\n",
    "target = data[\"Oxygen\"]\n",
    "\n",
    "# split into training and testing data\n",
    "from sklearn.model_selection import train_test_split\n",
    "X_train, X_test, y_train, y_test = train_test_split(features, target, test_size=0.2, random_state=42)"
   ]
  },
  {
   "cell_type": "code",
   "execution_count": 14,
   "metadata": {},
   "outputs": [
    {
     "name": "stdout",
     "output_type": "stream",
     "text": [
      "{'model': Ridge(), 'model__alpha': 10}\n"
     ]
    }
   ],
   "source": [
    "# import all linear regression models\n",
    "from sklearn.linear_model import LinearRegression, Ridge, Lasso, ElasticNet\n",
    "\n",
    "# use sklearn pipeline and grid search to find best model\n",
    "from sklearn.pipeline import Pipeline\n",
    "from sklearn.model_selection import GridSearchCV\n",
    "from sklearn.preprocessing import StandardScaler\n",
    "\n",
    "# create pipeline\n",
    "pipe = Pipeline([\n",
    "    ('scaler', StandardScaler()),\n",
    "    ('model', LinearRegression())\n",
    "])\n",
    "\n",
    "# create grid search\n",
    "param_grid = [\n",
    "    {'model': [LinearRegression()]},\n",
    "    {'model': [Ridge()], 'model__alpha': [0.1, 1, 10]},\n",
    "    {'model': [Lasso()], 'model__alpha': [0.1, 1, 10]},\n",
    "    {'model': [ElasticNet()], 'model__alpha': [0.1, 1, 10], 'model__l1_ratio': [0.1, 0.5, 0.9]}\n",
    "]\n",
    "\n",
    "grid = GridSearchCV(pipe, param_grid, cv=5, n_jobs=-1)\n",
    "grid.fit(X_train, y_train)\n",
    "\n",
    "# print best model\n",
    "print(grid.best_params_)"
   ]
  },
  {
   "cell_type": "code",
   "execution_count": 15,
   "metadata": {},
   "outputs": [
    {
     "data": {
      "text/plain": [
       "['ml_model.pkl']"
      ]
     },
     "execution_count": 15,
     "metadata": {},
     "output_type": "execute_result"
    }
   ],
   "source": [
    "# save the best model\n",
    "import joblib\n",
    "joblib.dump(grid.best_estimator_, 'ml_model.pkl')"
   ]
  },
  {
   "cell_type": "code",
   "execution_count": 16,
   "metadata": {},
   "outputs": [],
   "source": [
    "# read model\n",
    "model = joblib.load('ml_model.pkl')\n",
    "model"
   ]
  },
  {
   "cell_type": "code",
   "execution_count": 17,
   "metadata": {},
   "outputs": [
    {
     "data": {
      "text/plain": [
       "0.07765348588141721"
      ]
     },
     "execution_count": 17,
     "metadata": {},
     "output_type": "execute_result"
    }
   ],
   "source": [
    "# show how to predict with the saved model\n",
    "pred = model.predict(X_test)\n",
    "\n",
    "# check the model performance\n",
    "from sklearn.metrics import mean_squared_error\n",
    "mean_squared_error(y_test, pred)"
   ]
  },
  {
   "cell_type": "code",
   "execution_count": null,
   "metadata": {},
   "outputs": [],
   "source": []
  }
 ],
 "metadata": {
  "kernelspec": {
   "display_name": "Python 3",
   "language": "python",
   "name": "python3"
  },
  "language_info": {
   "codemirror_mode": {
    "name": "ipython",
    "version": 3
   },
   "file_extension": ".py",
   "mimetype": "text/x-python",
   "name": "python",
   "nbconvert_exporter": "python",
   "pygments_lexer": "ipython3",
   "version": "3.11.7"
  }
 },
 "nbformat": 4,
 "nbformat_minor": 2
}
